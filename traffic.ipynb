{
 "cells": [
  {
   "cell_type": "code",
   "execution_count": 1,
   "metadata": {
    "collapsed": true
   },
   "outputs": [],
   "source": [
    "import pandas as pd\n",
    "import numpy as np\n",
    "import matplotlib as plt"
   ]
  },
  {
   "cell_type": "code",
   "execution_count": 131,
   "metadata": {
    "collapsed": true
   },
   "outputs": [],
   "source": [
    "df=pd.read_csv(\"train33.csv\")\n",
    "df1=pd.read_csv(\"sample33.csv\")\n",
    "df2=pd.read_csv(\"test33.csv\")"
   ]
  },
  {
   "cell_type": "code",
   "execution_count": 3,
   "metadata": {
    "collapsed": false
   },
   "outputs": [
    {
     "data": {
      "text/html": [
       "<div>\n",
       "<table border=\"1\" class=\"dataframe\">\n",
       "  <thead>\n",
       "    <tr style=\"text-align: right;\">\n",
       "      <th></th>\n",
       "      <th>victim_id</th>\n",
       "      <th>incident_time</th>\n",
       "      <th>incident_date</th>\n",
       "      <th>incident_location</th>\n",
       "      <th>incident_tehsil</th>\n",
       "      <th>cause_of_emergency</th>\n",
       "      <th>base_to_scene_distance</th>\n",
       "      <th>scene_to_hospital_distance</th>\n",
       "      <th>roadway_feature</th>\n",
       "      <th>road_type</th>\n",
       "      <th>surrounding_area</th>\n",
       "      <th>criticality</th>\n",
       "    </tr>\n",
       "  </thead>\n",
       "  <tbody>\n",
       "    <tr>\n",
       "      <th>0</th>\n",
       "      <td>VIC20120001987267</td>\n",
       "      <td>22:23:19</td>\n",
       "      <td>07-11-2012</td>\n",
       "      <td>Subhash Nagar</td>\n",
       "      <td>Raipur</td>\n",
       "      <td>Multiple Vehicular Incident</td>\n",
       "      <td>13</td>\n",
       "      <td>12</td>\n",
       "      <td>CUR</td>\n",
       "      <td>HIW</td>\n",
       "      <td>FOR</td>\n",
       "      <td>0</td>\n",
       "    </tr>\n",
       "    <tr>\n",
       "      <th>1</th>\n",
       "      <td>VIC20110002147887</td>\n",
       "      <td>20:23:09</td>\n",
       "      <td>02-11-2011</td>\n",
       "      <td>Coro Nation</td>\n",
       "      <td>Raipur</td>\n",
       "      <td>2 Wheeler accidents</td>\n",
       "      <td>1</td>\n",
       "      <td>5</td>\n",
       "      <td>CUR</td>\n",
       "      <td>HIW</td>\n",
       "      <td>AGL</td>\n",
       "      <td>0</td>\n",
       "    </tr>\n",
       "    <tr>\n",
       "      <th>2</th>\n",
       "      <td>VIC20090001391483</td>\n",
       "      <td>20:37:15</td>\n",
       "      <td>25-07-2009</td>\n",
       "      <td>Kewal Vihar</td>\n",
       "      <td>Raipur</td>\n",
       "      <td>Non motorised vehicle accidents(Bullock cart,B...</td>\n",
       "      <td>2</td>\n",
       "      <td>2</td>\n",
       "      <td>INT</td>\n",
       "      <td>LOC</td>\n",
       "      <td>HOSP</td>\n",
       "      <td>0</td>\n",
       "    </tr>\n",
       "    <tr>\n",
       "      <th>3</th>\n",
       "      <td>VIC20120000900722</td>\n",
       "      <td>15:20:22</td>\n",
       "      <td>19-05-2012</td>\n",
       "      <td>I S B T</td>\n",
       "      <td>Raipur</td>\n",
       "      <td>2 Wheeler accidents</td>\n",
       "      <td>8</td>\n",
       "      <td>4</td>\n",
       "      <td>CUR</td>\n",
       "      <td>HIW</td>\n",
       "      <td>HIL</td>\n",
       "      <td>0</td>\n",
       "    </tr>\n",
       "    <tr>\n",
       "      <th>4</th>\n",
       "      <td>VIC20100001241285</td>\n",
       "      <td>16:22:17</td>\n",
       "      <td>12-06-2010</td>\n",
       "      <td>Sahaspur Ambu</td>\n",
       "      <td>Sahaspur</td>\n",
       "      <td>2 Wheeler accidents</td>\n",
       "      <td>1</td>\n",
       "      <td>26</td>\n",
       "      <td>CUR</td>\n",
       "      <td>HIW</td>\n",
       "      <td>AGL</td>\n",
       "      <td>0</td>\n",
       "    </tr>\n",
       "  </tbody>\n",
       "</table>\n",
       "</div>"
      ],
      "text/plain": [
       "           victim_id incident_time incident_date incident_location  \\\n",
       "0  VIC20120001987267      22:23:19    07-11-2012     Subhash Nagar   \n",
       "1  VIC20110002147887      20:23:09    02-11-2011       Coro Nation   \n",
       "2  VIC20090001391483      20:37:15    25-07-2009       Kewal Vihar   \n",
       "3  VIC20120000900722      15:20:22    19-05-2012           I S B T   \n",
       "4  VIC20100001241285      16:22:17    12-06-2010     Sahaspur Ambu   \n",
       "\n",
       "  incident_tehsil                                 cause_of_emergency  \\\n",
       "0          Raipur                        Multiple Vehicular Incident   \n",
       "1          Raipur                                2 Wheeler accidents   \n",
       "2          Raipur  Non motorised vehicle accidents(Bullock cart,B...   \n",
       "3          Raipur                                2 Wheeler accidents   \n",
       "4        Sahaspur                                2 Wheeler accidents   \n",
       "\n",
       "   base_to_scene_distance  scene_to_hospital_distance roadway_feature  \\\n",
       "0                      13                          12             CUR   \n",
       "1                       1                           5             CUR   \n",
       "2                       2                           2             INT   \n",
       "3                       8                           4             CUR   \n",
       "4                       1                          26             CUR   \n",
       "\n",
       "  road_type surrounding_area  criticality  \n",
       "0       HIW              FOR            0  \n",
       "1       HIW              AGL            0  \n",
       "2       LOC             HOSP            0  \n",
       "3       HIW              HIL            0  \n",
       "4       HIW              AGL            0  "
      ]
     },
     "execution_count": 3,
     "metadata": {},
     "output_type": "execute_result"
    }
   ],
   "source": [
    "df.head()"
   ]
  },
  {
   "cell_type": "code",
   "execution_count": 4,
   "metadata": {
    "collapsed": false
   },
   "outputs": [
    {
     "data": {
      "text/html": [
       "<div>\n",
       "<table border=\"1\" class=\"dataframe\">\n",
       "  <thead>\n",
       "    <tr style=\"text-align: right;\">\n",
       "      <th></th>\n",
       "      <th>base_to_scene_distance</th>\n",
       "      <th>scene_to_hospital_distance</th>\n",
       "      <th>criticality</th>\n",
       "    </tr>\n",
       "  </thead>\n",
       "  <tbody>\n",
       "    <tr>\n",
       "      <th>count</th>\n",
       "      <td>11777.000000</td>\n",
       "      <td>11777.000000</td>\n",
       "      <td>11777.000000</td>\n",
       "    </tr>\n",
       "    <tr>\n",
       "      <th>mean</th>\n",
       "      <td>6.819648</td>\n",
       "      <td>7.628598</td>\n",
       "      <td>0.044324</td>\n",
       "    </tr>\n",
       "    <tr>\n",
       "      <th>std</th>\n",
       "      <td>5.920448</td>\n",
       "      <td>8.993419</td>\n",
       "      <td>0.205822</td>\n",
       "    </tr>\n",
       "    <tr>\n",
       "      <th>min</th>\n",
       "      <td>1.000000</td>\n",
       "      <td>0.000000</td>\n",
       "      <td>0.000000</td>\n",
       "    </tr>\n",
       "    <tr>\n",
       "      <th>25%</th>\n",
       "      <td>3.000000</td>\n",
       "      <td>2.000000</td>\n",
       "      <td>0.000000</td>\n",
       "    </tr>\n",
       "    <tr>\n",
       "      <th>50%</th>\n",
       "      <td>5.000000</td>\n",
       "      <td>5.000000</td>\n",
       "      <td>0.000000</td>\n",
       "    </tr>\n",
       "    <tr>\n",
       "      <th>75%</th>\n",
       "      <td>9.000000</td>\n",
       "      <td>10.000000</td>\n",
       "      <td>0.000000</td>\n",
       "    </tr>\n",
       "    <tr>\n",
       "      <th>max</th>\n",
       "      <td>89.000000</td>\n",
       "      <td>119.000000</td>\n",
       "      <td>1.000000</td>\n",
       "    </tr>\n",
       "  </tbody>\n",
       "</table>\n",
       "</div>"
      ],
      "text/plain": [
       "       base_to_scene_distance  scene_to_hospital_distance   criticality\n",
       "count            11777.000000                11777.000000  11777.000000\n",
       "mean                 6.819648                    7.628598      0.044324\n",
       "std                  5.920448                    8.993419      0.205822\n",
       "min                  1.000000                    0.000000      0.000000\n",
       "25%                  3.000000                    2.000000      0.000000\n",
       "50%                  5.000000                    5.000000      0.000000\n",
       "75%                  9.000000                   10.000000      0.000000\n",
       "max                 89.000000                  119.000000      1.000000"
      ]
     },
     "execution_count": 4,
     "metadata": {},
     "output_type": "execute_result"
    }
   ],
   "source": [
    "df.describe()"
   ]
  },
  {
   "cell_type": "code",
   "execution_count": 152,
   "metadata": {
    "collapsed": false
   },
   "outputs": [
    {
     "name": "stdout",
     "output_type": "stream",
     "text": [
      "0           \n",
      "1           \n",
      "2           \n",
      "3           \n",
      "4           \n",
      "5        NaN\n",
      "6        NaN\n",
      "7        NaN\n",
      "8        NaN\n",
      "9        NaN\n",
      "10       NaN\n",
      "11       NaN\n",
      "12       NaN\n",
      "13       NaN\n",
      "14       NaN\n",
      "15       NaN\n",
      "16       NaN\n",
      "17       NaN\n",
      "18       NaN\n",
      "19       NaN\n",
      "20       NaN\n",
      "21       NaN\n",
      "22       NaN\n",
      "23       NaN\n",
      "24       NaN\n",
      "25       NaN\n",
      "26       NaN\n",
      "27       NaN\n",
      "28       NaN\n",
      "29       NaN\n",
      "        ... \n",
      "11747    NaN\n",
      "11748    NaN\n",
      "11749    NaN\n",
      "11750    NaN\n",
      "11751    NaN\n",
      "11752    NaN\n",
      "11753    NaN\n",
      "11754    NaN\n",
      "11755    NaN\n",
      "11756    NaN\n",
      "11757    NaN\n",
      "11758    NaN\n",
      "11759    NaN\n",
      "11760    NaN\n",
      "11761    NaN\n",
      "11762    NaN\n",
      "11763    NaN\n",
      "11764    NaN\n",
      "11765    NaN\n",
      "11766    NaN\n",
      "11767    NaN\n",
      "11768    NaN\n",
      "11769    NaN\n",
      "11770    NaN\n",
      "11771    NaN\n",
      "11772    NaN\n",
      "11773    NaN\n",
      "11774    NaN\n",
      "11775    NaN\n",
      "11776    NaN\n",
      "Name: incident_time, dtype: object\n"
     ]
    }
   ],
   "source": [
    "df.incident_time=df.incident_time.str.slice(0,-6).head()\n",
    "print(df.incident_time)"
   ]
  },
  {
   "cell_type": "code",
   "execution_count": 147,
   "metadata": {
    "collapsed": false
   },
   "outputs": [
    {
     "data": {
      "text/plain": [
       "victim_id                     object\n",
       "incident_time                 object\n",
       "incident_date                 object\n",
       "incident_location             object\n",
       "incident_tehsil                int64\n",
       "cause_of_emergency             int64\n",
       "base_to_scene_distance         int64\n",
       "scene_to_hospital_distance     int64\n",
       "roadway_feature                int64\n",
       "road_type                      int64\n",
       "surrounding_area               int64\n",
       "criticality                    int64\n",
       "dtype: object"
      ]
     },
     "execution_count": 147,
     "metadata": {},
     "output_type": "execute_result"
    }
   ],
   "source": [
    "df.dtypes"
   ]
  },
  {
   "cell_type": "code",
   "execution_count": 148,
   "metadata": {
    "collapsed": false
   },
   "outputs": [
    {
     "data": {
      "text/plain": [
       "victim_id                         0\n",
       "incident_time                 11772\n",
       "incident_date                     0\n",
       "incident_location               307\n",
       "incident_tehsil                   0\n",
       "cause_of_emergency                0\n",
       "base_to_scene_distance            0\n",
       "scene_to_hospital_distance        0\n",
       "roadway_feature                   0\n",
       "road_type                         0\n",
       "surrounding_area                  0\n",
       "criticality                       0\n",
       "dtype: int64"
      ]
     },
     "execution_count": 148,
     "metadata": {},
     "output_type": "execute_result"
    }
   ],
   "source": [
    "df.isnull().sum()"
   ]
  },
  {
   "cell_type": "code",
   "execution_count": 142,
   "metadata": {
    "collapsed": false
   },
   "outputs": [
    {
     "ename": "TypeError",
     "evalue": "'>' not supported between instances of 'int' and 'str'",
     "output_type": "error",
     "traceback": [
      "\u001b[0;31m---------------------------------------------------------------------------\u001b[0m",
      "\u001b[0;31mTypeError\u001b[0m                                 Traceback (most recent call last)",
      "\u001b[0;32m<ipython-input-142-ede90b7a360f>\u001b[0m in \u001b[0;36m<module>\u001b[0;34m()\u001b[0m\n\u001b[1;32m      7\u001b[0m         \u001b[0mdf\u001b[0m\u001b[1;33m[\u001b[0m\u001b[0mcol\u001b[0m\u001b[1;33m]\u001b[0m\u001b[1;33m=\u001b[0m\u001b[0mle\u001b[0m\u001b[1;33m.\u001b[0m\u001b[0mtransform\u001b[0m\u001b[1;33m(\u001b[0m\u001b[0mdf\u001b[0m\u001b[1;33m[\u001b[0m\u001b[0mcol\u001b[0m\u001b[1;33m]\u001b[0m\u001b[1;33m)\u001b[0m\u001b[1;33m\u001b[0m\u001b[0m\n\u001b[1;32m      8\u001b[0m         \u001b[0mdf1\u001b[0m\u001b[1;33m[\u001b[0m\u001b[0mcol\u001b[0m\u001b[1;33m]\u001b[0m\u001b[1;33m=\u001b[0m\u001b[0mle\u001b[0m\u001b[1;33m.\u001b[0m\u001b[0mtransform\u001b[0m\u001b[1;33m(\u001b[0m\u001b[0mdf1\u001b[0m\u001b[1;33m[\u001b[0m\u001b[0mcol\u001b[0m\u001b[1;33m]\u001b[0m\u001b[1;33m)\u001b[0m\u001b[1;33m\u001b[0m\u001b[0m\n\u001b[0;32m----> 9\u001b[0;31m \u001b[0mdf\u001b[0m\u001b[1;33m.\u001b[0m\u001b[0mincident_time\u001b[0m\u001b[1;33m=\u001b[0m\u001b[0mle\u001b[0m\u001b[1;33m.\u001b[0m\u001b[0mtransform\u001b[0m\u001b[1;33m(\u001b[0m\u001b[0mdf1\u001b[0m\u001b[1;33m.\u001b[0m\u001b[0mincident_time\u001b[0m\u001b[1;33m)\u001b[0m\u001b[1;33m\u001b[0m\u001b[0m\n\u001b[0m",
      "\u001b[0;32mC:\\Users\\LENOVO\\Anaconda\\lib\\site-packages\\sklearn\\preprocessing\\label.py\u001b[0m in \u001b[0;36mtransform\u001b[0;34m(self, y)\u001b[0m\n\u001b[1;32m    149\u001b[0m         \u001b[0mclasses\u001b[0m \u001b[1;33m=\u001b[0m \u001b[0mnp\u001b[0m\u001b[1;33m.\u001b[0m\u001b[0munique\u001b[0m\u001b[1;33m(\u001b[0m\u001b[0my\u001b[0m\u001b[1;33m)\u001b[0m\u001b[1;33m\u001b[0m\u001b[0m\n\u001b[1;32m    150\u001b[0m         \u001b[0m_check_numpy_unicode_bug\u001b[0m\u001b[1;33m(\u001b[0m\u001b[0mclasses\u001b[0m\u001b[1;33m)\u001b[0m\u001b[1;33m\u001b[0m\u001b[0m\n\u001b[0;32m--> 151\u001b[0;31m         \u001b[1;32mif\u001b[0m \u001b[0mlen\u001b[0m\u001b[1;33m(\u001b[0m\u001b[0mnp\u001b[0m\u001b[1;33m.\u001b[0m\u001b[0mintersect1d\u001b[0m\u001b[1;33m(\u001b[0m\u001b[0mclasses\u001b[0m\u001b[1;33m,\u001b[0m \u001b[0mself\u001b[0m\u001b[1;33m.\u001b[0m\u001b[0mclasses_\u001b[0m\u001b[1;33m)\u001b[0m\u001b[1;33m)\u001b[0m \u001b[1;33m<\u001b[0m \u001b[0mlen\u001b[0m\u001b[1;33m(\u001b[0m\u001b[0mclasses\u001b[0m\u001b[1;33m)\u001b[0m\u001b[1;33m:\u001b[0m\u001b[1;33m\u001b[0m\u001b[0m\n\u001b[0m\u001b[1;32m    152\u001b[0m             \u001b[0mdiff\u001b[0m \u001b[1;33m=\u001b[0m \u001b[0mnp\u001b[0m\u001b[1;33m.\u001b[0m\u001b[0msetdiff1d\u001b[0m\u001b[1;33m(\u001b[0m\u001b[0mclasses\u001b[0m\u001b[1;33m,\u001b[0m \u001b[0mself\u001b[0m\u001b[1;33m.\u001b[0m\u001b[0mclasses_\u001b[0m\u001b[1;33m)\u001b[0m\u001b[1;33m\u001b[0m\u001b[0m\n\u001b[1;32m    153\u001b[0m             \u001b[1;32mraise\u001b[0m \u001b[0mValueError\u001b[0m\u001b[1;33m(\u001b[0m\u001b[1;34m\"y contains new labels: %s\"\u001b[0m \u001b[1;33m%\u001b[0m \u001b[0mstr\u001b[0m\u001b[1;33m(\u001b[0m\u001b[0mdiff\u001b[0m\u001b[1;33m)\u001b[0m\u001b[1;33m)\u001b[0m\u001b[1;33m\u001b[0m\u001b[0m\n",
      "\u001b[0;32mC:\\Users\\LENOVO\\Anaconda\\lib\\site-packages\\numpy\\lib\\arraysetops.py\u001b[0m in \u001b[0;36mintersect1d\u001b[0;34m(ar1, ar2, assume_unique)\u001b[0m\n\u001b[1;32m    256\u001b[0m         \u001b[0mar2\u001b[0m \u001b[1;33m=\u001b[0m \u001b[0munique\u001b[0m\u001b[1;33m(\u001b[0m\u001b[0mar2\u001b[0m\u001b[1;33m)\u001b[0m\u001b[1;33m\u001b[0m\u001b[0m\n\u001b[1;32m    257\u001b[0m     \u001b[0maux\u001b[0m \u001b[1;33m=\u001b[0m \u001b[0mnp\u001b[0m\u001b[1;33m.\u001b[0m\u001b[0mconcatenate\u001b[0m\u001b[1;33m(\u001b[0m\u001b[1;33m(\u001b[0m\u001b[0mar1\u001b[0m\u001b[1;33m,\u001b[0m \u001b[0mar2\u001b[0m\u001b[1;33m)\u001b[0m\u001b[1;33m)\u001b[0m\u001b[1;33m\u001b[0m\u001b[0m\n\u001b[0;32m--> 258\u001b[0;31m     \u001b[0maux\u001b[0m\u001b[1;33m.\u001b[0m\u001b[0msort\u001b[0m\u001b[1;33m(\u001b[0m\u001b[1;33m)\u001b[0m\u001b[1;33m\u001b[0m\u001b[0m\n\u001b[0m\u001b[1;32m    259\u001b[0m     \u001b[1;32mreturn\u001b[0m \u001b[0maux\u001b[0m\u001b[1;33m[\u001b[0m\u001b[1;33m:\u001b[0m\u001b[1;33m-\u001b[0m\u001b[1;36m1\u001b[0m\u001b[1;33m]\u001b[0m\u001b[1;33m[\u001b[0m\u001b[0maux\u001b[0m\u001b[1;33m[\u001b[0m\u001b[1;36m1\u001b[0m\u001b[1;33m:\u001b[0m\u001b[1;33m]\u001b[0m \u001b[1;33m==\u001b[0m \u001b[0maux\u001b[0m\u001b[1;33m[\u001b[0m\u001b[1;33m:\u001b[0m\u001b[1;33m-\u001b[0m\u001b[1;36m1\u001b[0m\u001b[1;33m]\u001b[0m\u001b[1;33m]\u001b[0m\u001b[1;33m\u001b[0m\u001b[0m\n\u001b[1;32m    260\u001b[0m \u001b[1;33m\u001b[0m\u001b[0m\n",
      "\u001b[0;31mTypeError\u001b[0m: '>' not supported between instances of 'int' and 'str'"
     ]
    }
   ],
   "source": [
    "from sklearn.preprocessing import LabelEncoder\n",
    "le=LabelEncoder()\n",
    "for col in df1[df1.columns[4:11].values]:\n",
    "    #if df1[col].dt=='object':\n",
    "        data=df[col].append(df1[col])\n",
    "        le.fit(data.values)\n",
    "        df[col]=le.transform(df[col])\n",
    "        df1[col]=le.transform(df1[col])\n",
    "df.incident_time=le.transform(df1.incident_time)"
   ]
  },
  {
   "cell_type": "code",
   "execution_count": 137,
   "metadata": {
    "collapsed": false
   },
   "outputs": [
    {
     "data": {
      "text/html": [
       "<div>\n",
       "<table border=\"1\" class=\"dataframe\">\n",
       "  <thead>\n",
       "    <tr style=\"text-align: right;\">\n",
       "      <th></th>\n",
       "      <th>victim_id</th>\n",
       "      <th>incident_time</th>\n",
       "      <th>incident_date</th>\n",
       "      <th>incident_location</th>\n",
       "      <th>incident_tehsil</th>\n",
       "      <th>cause_of_emergency</th>\n",
       "      <th>base_to_scene_distance</th>\n",
       "      <th>scene_to_hospital_distance</th>\n",
       "      <th>roadway_feature</th>\n",
       "      <th>road_type</th>\n",
       "      <th>surrounding_area</th>\n",
       "      <th>criticality</th>\n",
       "    </tr>\n",
       "  </thead>\n",
       "  <tbody>\n",
       "    <tr>\n",
       "      <th>0</th>\n",
       "      <td>VIC20120001987267</td>\n",
       "      <td>22</td>\n",
       "      <td>07-11-2012</td>\n",
       "      <td>Subhash Nagar</td>\n",
       "      <td>4</td>\n",
       "      <td>9</td>\n",
       "      <td>12</td>\n",
       "      <td>12</td>\n",
       "      <td>0</td>\n",
       "      <td>0</td>\n",
       "      <td>2</td>\n",
       "      <td>0</td>\n",
       "    </tr>\n",
       "    <tr>\n",
       "      <th>1</th>\n",
       "      <td>VIC20110002147887</td>\n",
       "      <td>20</td>\n",
       "      <td>02-11-2011</td>\n",
       "      <td>Coro Nation</td>\n",
       "      <td>4</td>\n",
       "      <td>0</td>\n",
       "      <td>0</td>\n",
       "      <td>5</td>\n",
       "      <td>0</td>\n",
       "      <td>0</td>\n",
       "      <td>0</td>\n",
       "      <td>0</td>\n",
       "    </tr>\n",
       "    <tr>\n",
       "      <th>2</th>\n",
       "      <td>VIC20090001391483</td>\n",
       "      <td>20</td>\n",
       "      <td>25-07-2009</td>\n",
       "      <td>Kewal Vihar</td>\n",
       "      <td>4</td>\n",
       "      <td>10</td>\n",
       "      <td>1</td>\n",
       "      <td>2</td>\n",
       "      <td>1</td>\n",
       "      <td>1</td>\n",
       "      <td>4</td>\n",
       "      <td>0</td>\n",
       "    </tr>\n",
       "    <tr>\n",
       "      <th>3</th>\n",
       "      <td>VIC20120000900722</td>\n",
       "      <td>15</td>\n",
       "      <td>19-05-2012</td>\n",
       "      <td>I S B T</td>\n",
       "      <td>4</td>\n",
       "      <td>0</td>\n",
       "      <td>7</td>\n",
       "      <td>4</td>\n",
       "      <td>0</td>\n",
       "      <td>0</td>\n",
       "      <td>3</td>\n",
       "      <td>0</td>\n",
       "    </tr>\n",
       "    <tr>\n",
       "      <th>4</th>\n",
       "      <td>VIC20100001241285</td>\n",
       "      <td>16</td>\n",
       "      <td>12-06-2010</td>\n",
       "      <td>Sahaspur Ambu</td>\n",
       "      <td>5</td>\n",
       "      <td>0</td>\n",
       "      <td>0</td>\n",
       "      <td>26</td>\n",
       "      <td>0</td>\n",
       "      <td>0</td>\n",
       "      <td>0</td>\n",
       "      <td>0</td>\n",
       "    </tr>\n",
       "  </tbody>\n",
       "</table>\n",
       "</div>"
      ],
      "text/plain": [
       "           victim_id incident_time incident_date incident_location  \\\n",
       "0  VIC20120001987267            22    07-11-2012     Subhash Nagar   \n",
       "1  VIC20110002147887            20    02-11-2011       Coro Nation   \n",
       "2  VIC20090001391483            20    25-07-2009       Kewal Vihar   \n",
       "3  VIC20120000900722            15    19-05-2012           I S B T   \n",
       "4  VIC20100001241285            16    12-06-2010     Sahaspur Ambu   \n",
       "\n",
       "   incident_tehsil  cause_of_emergency  base_to_scene_distance  \\\n",
       "0                4                   9                      12   \n",
       "1                4                   0                       0   \n",
       "2                4                  10                       1   \n",
       "3                4                   0                       7   \n",
       "4                5                   0                       0   \n",
       "\n",
       "   scene_to_hospital_distance  roadway_feature  road_type  surrounding_area  \\\n",
       "0                          12                0          0                 2   \n",
       "1                           5                0          0                 0   \n",
       "2                           2                1          1                 4   \n",
       "3                           4                0          0                 3   \n",
       "4                          26                0          0                 0   \n",
       "\n",
       "   criticality  \n",
       "0            0  \n",
       "1            0  \n",
       "2            0  \n",
       "3            0  \n",
       "4            0  "
      ]
     },
     "execution_count": 137,
     "metadata": {},
     "output_type": "execute_result"
    }
   ],
   "source": [
    "df.head()"
   ]
  },
  {
   "cell_type": "code",
   "execution_count": 127,
   "metadata": {
    "collapsed": false
   },
   "outputs": [
    {
     "data": {
      "text/html": [
       "<div>\n",
       "<table border=\"1\" class=\"dataframe\">\n",
       "  <thead>\n",
       "    <tr style=\"text-align: right;\">\n",
       "      <th></th>\n",
       "      <th>victim_id</th>\n",
       "      <th>incident_time</th>\n",
       "      <th>incident_date</th>\n",
       "      <th>incident_location</th>\n",
       "      <th>incident_tehsil</th>\n",
       "      <th>cause_of_emergency</th>\n",
       "      <th>base_to_scene_distance</th>\n",
       "      <th>scene_to_hospital_distance</th>\n",
       "      <th>roadway_feature</th>\n",
       "      <th>road_type</th>\n",
       "      <th>surrounding_area</th>\n",
       "    </tr>\n",
       "  </thead>\n",
       "  <tbody>\n",
       "    <tr>\n",
       "      <th>0</th>\n",
       "      <td>3603</td>\n",
       "      <td>6141</td>\n",
       "      <td>1521</td>\n",
       "      <td>Chc Sahaspur</td>\n",
       "      <td>5</td>\n",
       "      <td>4</td>\n",
       "      <td>22</td>\n",
       "      <td>27</td>\n",
       "      <td>1</td>\n",
       "      <td>1</td>\n",
       "      <td>5</td>\n",
       "    </tr>\n",
       "    <tr>\n",
       "      <th>1</th>\n",
       "      <td>8561</td>\n",
       "      <td>7192</td>\n",
       "      <td>1441</td>\n",
       "      <td>Doiwala Ambulance</td>\n",
       "      <td>2</td>\n",
       "      <td>9</td>\n",
       "      <td>4</td>\n",
       "      <td>21</td>\n",
       "      <td>0</td>\n",
       "      <td>0</td>\n",
       "      <td>0</td>\n",
       "    </tr>\n",
       "    <tr>\n",
       "      <th>2</th>\n",
       "      <td>10906</td>\n",
       "      <td>8988</td>\n",
       "      <td>2488</td>\n",
       "      <td>Race Course Chowk</td>\n",
       "      <td>4</td>\n",
       "      <td>9</td>\n",
       "      <td>2</td>\n",
       "      <td>1</td>\n",
       "      <td>0</td>\n",
       "      <td>0</td>\n",
       "      <td>0</td>\n",
       "    </tr>\n",
       "    <tr>\n",
       "      <th>3</th>\n",
       "      <td>15397</td>\n",
       "      <td>6702</td>\n",
       "      <td>2461</td>\n",
       "      <td>Selaqui</td>\n",
       "      <td>5</td>\n",
       "      <td>9</td>\n",
       "      <td>17</td>\n",
       "      <td>14</td>\n",
       "      <td>4</td>\n",
       "      <td>1</td>\n",
       "      <td>0</td>\n",
       "    </tr>\n",
       "    <tr>\n",
       "      <th>4</th>\n",
       "      <td>2471</td>\n",
       "      <td>5988</td>\n",
       "      <td>2754</td>\n",
       "      <td>Ambari Mode,Dakpather</td>\n",
       "      <td>6</td>\n",
       "      <td>0</td>\n",
       "      <td>5</td>\n",
       "      <td>10</td>\n",
       "      <td>1</td>\n",
       "      <td>1</td>\n",
       "      <td>5</td>\n",
       "    </tr>\n",
       "  </tbody>\n",
       "</table>\n",
       "</div>"
      ],
      "text/plain": [
       "   victim_id  incident_time  incident_date      incident_location  \\\n",
       "0       3603           6141           1521           Chc Sahaspur   \n",
       "1       8561           7192           1441      Doiwala Ambulance   \n",
       "2      10906           8988           2488      Race Course Chowk   \n",
       "3      15397           6702           2461                Selaqui   \n",
       "4       2471           5988           2754  Ambari Mode,Dakpather   \n",
       "\n",
       "   incident_tehsil  cause_of_emergency  base_to_scene_distance  \\\n",
       "0                5                   4                      22   \n",
       "1                2                   9                       4   \n",
       "2                4                   9                       2   \n",
       "3                5                   9                      17   \n",
       "4                6                   0                       5   \n",
       "\n",
       "   scene_to_hospital_distance  roadway_feature  road_type  surrounding_area  \n",
       "0                          27                1          1                 5  \n",
       "1                          21                0          0                 0  \n",
       "2                           1                0          0                 0  \n",
       "3                          14                4          1                 0  \n",
       "4                          10                1          1                 5  "
      ]
     },
     "execution_count": 127,
     "metadata": {},
     "output_type": "execute_result"
    }
   ],
   "source": [
    "df.dtypes\n",
    "df1.head()"
   ]
  },
  {
   "cell_type": "code",
   "execution_count": 100,
   "metadata": {
    "collapsed": false
   },
   "outputs": [
    {
     "name": "stdout",
     "output_type": "stream",
     "text": [
      "                            victim_id  incident_time  incident_date  \\\n",
      "victim_id                    1.000000      -0.005649       0.015097   \n",
      "incident_time               -0.005649       1.000000       0.004310   \n",
      "incident_date                0.015097       0.004310       1.000000   \n",
      "incident_tehsil              0.067141       0.008696       0.006226   \n",
      "cause_of_emergency           0.012086      -0.079731       0.001140   \n",
      "base_to_scene_distance      -0.048677      -0.044770      -0.000773   \n",
      "scene_to_hospital_distance   0.051381      -0.043058      -0.009894   \n",
      "roadway_feature              0.429882      -0.021935       0.014910   \n",
      "road_type                    0.250319      -0.013861       0.060925   \n",
      "surrounding_area            -0.299185       0.010040       0.037771   \n",
      "criticality                 -0.046346      -0.012645      -0.011976   \n",
      "\n",
      "                            incident_tehsil  cause_of_emergency  \\\n",
      "victim_id                          0.067141            0.012086   \n",
      "incident_time                      0.008696           -0.079731   \n",
      "incident_date                      0.006226            0.001140   \n",
      "incident_tehsil                    1.000000           -0.037732   \n",
      "cause_of_emergency                -0.037732            1.000000   \n",
      "base_to_scene_distance            -0.018342            0.154639   \n",
      "scene_to_hospital_distance        -0.022934            0.152419   \n",
      "roadway_feature                   -0.039480            0.027072   \n",
      "road_type                          0.020305            0.002524   \n",
      "surrounding_area                   0.005204           -0.004728   \n",
      "criticality                       -0.027447            0.074312   \n",
      "\n",
      "                            base_to_scene_distance  \\\n",
      "victim_id                                -0.048677   \n",
      "incident_time                            -0.044770   \n",
      "incident_date                            -0.000773   \n",
      "incident_tehsil                          -0.018342   \n",
      "cause_of_emergency                        0.154639   \n",
      "base_to_scene_distance                    1.000000   \n",
      "scene_to_hospital_distance                0.419370   \n",
      "roadway_feature                           0.011248   \n",
      "road_type                                 0.005285   \n",
      "surrounding_area                          0.012279   \n",
      "criticality                               0.058157   \n",
      "\n",
      "                            scene_to_hospital_distance  roadway_feature  \\\n",
      "victim_id                                     0.051381         0.429882   \n",
      "incident_time                                -0.043058        -0.021935   \n",
      "incident_date                                -0.009894         0.014910   \n",
      "incident_tehsil                              -0.022934        -0.039480   \n",
      "cause_of_emergency                            0.152419         0.027072   \n",
      "base_to_scene_distance                        0.419370         0.011248   \n",
      "scene_to_hospital_distance                    1.000000         0.047989   \n",
      "roadway_feature                               0.047989         1.000000   \n",
      "road_type                                     0.022601         0.482765   \n",
      "surrounding_area                             -0.019468        -0.142630   \n",
      "criticality                                   0.203701         0.028033   \n",
      "\n",
      "                            road_type  surrounding_area  criticality  \n",
      "victim_id                    0.250319         -0.299185    -0.046346  \n",
      "incident_time               -0.013861          0.010040    -0.012645  \n",
      "incident_date                0.060925          0.037771    -0.011976  \n",
      "incident_tehsil              0.020305          0.005204    -0.027447  \n",
      "cause_of_emergency           0.002524         -0.004728     0.074312  \n",
      "base_to_scene_distance       0.005285          0.012279     0.058157  \n",
      "scene_to_hospital_distance   0.022601         -0.019468     0.203701  \n",
      "roadway_feature              0.482765         -0.142630     0.028033  \n",
      "road_type                    1.000000         -0.064676     0.002184  \n",
      "surrounding_area            -0.064676          1.000000     0.016998  \n",
      "criticality                  0.002184          0.016998     1.000000  \n"
     ]
    }
   ],
   "source": [
    "corrmat = df.corr()\n",
    "print(corrmat)\n",
    "#f, ax = plt.subplots(figsize=(12, 9))\n",
    "#sns.heatmap(corrmat, vmax=.8, square=True);"
   ]
  },
  {
   "cell_type": "code",
   "execution_count": 138,
   "metadata": {
    "collapsed": false
   },
   "outputs": [
    {
     "name": "stdout",
     "output_type": "stream",
     "text": [
      "[['22' 4 9 ..., 0 0 2]\n",
      " ['20' 4 0 ..., 0 0 0]\n",
      " ['20' 4 10 ..., 1 1 4]\n",
      " ..., \n",
      " [nan 5 0 ..., 1 0 4]\n",
      " [nan 2 9 ..., 4 1 0]\n",
      " [nan 4 13 ..., 1 0 5]]\n",
      "[0 0 0 ..., 0 1 0]\n"
     ]
    }
   ],
   "source": [
    "X = df.ix[:,(1,4,5,6,7,8,9,10)].values\n",
    "y = df.ix[:,(11)].values\n",
    "print(X)\n",
    "print(y)"
   ]
  },
  {
   "cell_type": "code",
   "execution_count": 109,
   "metadata": {
    "collapsed": true
   },
   "outputs": [],
   "source": [
    "Xtest = df1.ix[:,(4,5,6,7,8,9,10)].values\n"
   ]
  },
  {
   "cell_type": "code",
   "execution_count": 122,
   "metadata": {
    "collapsed": false
   },
   "outputs": [],
   "source": [
    "#from sklearn.neural_network import MLPClassifie\n",
    "from sklearn.ensemble import RandomForestClassifier, AdaBoostClassifier\n",
    "#from sklearn import metrics\n",
    "model = RandomForestClassifier(n_estimators=100)\n",
    "model.fit(X,y)\n",
    "predictions = model.predict(Xtest)"
   ]
  },
  {
   "cell_type": "code",
   "execution_count": 114,
   "metadata": {
    "collapsed": false
   },
   "outputs": [],
   "source": [
    "from sklearn import tree\n",
    "from sklearn.naive_bayes import GaussianNB\n",
    "\n",
    "model = tree.DecisionTreeClassifier(criterion='gini')\n",
    "#model = GaussianNB()#best\n",
    "model.fit(X,y)\n",
    "predictions = model.predict(Xtest)"
   ]
  },
  {
   "cell_type": "code",
   "execution_count": 51,
   "metadata": {
    "collapsed": false
   },
   "outputs": [
    {
     "name": "stdout",
     "output_type": "stream",
     "text": [
      "[0 0 0 ..., 0 0 0]\n"
     ]
    }
   ],
   "source": [
    "print(predictions)"
   ]
  },
  {
   "cell_type": "code",
   "execution_count": 123,
   "metadata": {
    "collapsed": true
   },
   "outputs": [],
   "source": [
    "df2.criticality=predictions"
   ]
  },
  {
   "cell_type": "code",
   "execution_count": 53,
   "metadata": {
    "collapsed": false
   },
   "outputs": [
    {
     "name": "stdout",
     "output_type": "stream",
     "text": [
      "[0 0 0 ..., 0 0 0]\n"
     ]
    }
   ],
   "source": [
    "print(predictions)"
   ]
  },
  {
   "cell_type": "code",
   "execution_count": 124,
   "metadata": {
    "collapsed": false
   },
   "outputs": [
    {
     "data": {
      "text/plain": [
       "0    5009\n",
       "1      39\n",
       "Name: criticality, dtype: int64"
      ]
     },
     "execution_count": 124,
     "metadata": {},
     "output_type": "execute_result"
    }
   ],
   "source": [
    "df2[df2.columns[1]].value_counts()"
   ]
  },
  {
   "cell_type": "code",
   "execution_count": 125,
   "metadata": {
    "collapsed": false
   },
   "outputs": [],
   "source": [
    "pd.DataFrame({'victim_id':df2.victim_id,'criticality':df2.criticality}).set_index('victim_id').to_csv('test42.csv')\n"
   ]
  },
  {
   "cell_type": "code",
   "execution_count": null,
   "metadata": {
    "collapsed": true
   },
   "outputs": [],
   "source": []
  }
 ],
 "metadata": {
  "kernelspec": {
   "display_name": "Python 3",
   "language": "python",
   "name": "python3"
  },
  "language_info": {
   "codemirror_mode": {
    "name": "ipython",
    "version": 3
   },
   "file_extension": ".py",
   "mimetype": "text/x-python",
   "name": "python",
   "nbconvert_exporter": "python",
   "pygments_lexer": "ipython3",
   "version": "3.6.0"
  }
 },
 "nbformat": 4,
 "nbformat_minor": 2
}
